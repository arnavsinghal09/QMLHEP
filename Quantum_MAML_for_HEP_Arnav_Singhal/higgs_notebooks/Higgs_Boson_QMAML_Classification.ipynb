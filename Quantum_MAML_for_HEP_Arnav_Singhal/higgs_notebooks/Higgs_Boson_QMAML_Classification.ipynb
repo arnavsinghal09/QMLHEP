{
  "nbformat": 4,
  "nbformat_minor": 0,
  "metadata": {
    "colab": {
      "provenance": [],
      "gpuType": "T4",
      "authorship_tag": "ABX9TyNmH5XliAVqoE8KROyno7T4",
      "include_colab_link": true
    },
    "kernelspec": {
      "name": "python3",
      "display_name": "Python 3"
    },
    "language_info": {
      "name": "python"
    },
    "accelerator": "GPU"
  },
  "cells": [
    {
      "cell_type": "markdown",
      "metadata": {
        "id": "view-in-github",
        "colab_type": "text"
      },
      "source": [
        "<a href=\"https://colab.research.google.com/github/arnavsinghal09/GSoC-QMAML/blob/main/Higgs_Boson_QMAML_Classification%20v1.ipynb\" target=\"_parent\"><img src=\"https://colab.research.google.com/assets/colab-badge.svg\" alt=\"Open In Colab\"/></a>"
      ]
    },
    {
      "cell_type": "code",
      "execution_count": 1,
      "metadata": {
        "colab": {
          "base_uri": "https://localhost:8080/"
        },
        "id": "eRohYfm9I0cg",
        "outputId": "abb67919-57fb-49ed-acfa-6155deef2dfb"
      },
      "outputs": [
        {
          "output_type": "stream",
          "name": "stdout",
          "text": [
            "--2025-06-11 13:19:47--  https://archive.ics.uci.edu/ml/machine-learning-databases/00280/HIGGS.csv.gz\n",
            "Resolving archive.ics.uci.edu (archive.ics.uci.edu)... 128.195.10.252\n",
            "Connecting to archive.ics.uci.edu (archive.ics.uci.edu)|128.195.10.252|:443... connected.\n",
            "HTTP request sent, awaiting response... 200 OK\n",
            "Length: unspecified\n",
            "Saving to: ‘HIGGS.csv.gz’\n",
            "\n",
            "HIGGS.csv.gz            [            <=>     ]   2.62G  79.4MB/s    in 46s     \n",
            "\n",
            "2025-06-11 13:20:33 (57.9 MB/s) - ‘HIGGS.csv.gz’ saved [2816407858]\n",
            "\n",
            "\u001b[2K     \u001b[90m━━━━━━━━━━━━━━━━━━━━━━━━━━━━━━━━━━━━━━━━\u001b[0m \u001b[32m56.1/56.1 kB\u001b[0m \u001b[31m4.2 MB/s\u001b[0m eta \u001b[36m0:00:00\u001b[0m\n",
            "\u001b[2K   \u001b[90m━━━━━━━━━━━━━━━━━━━━━━━━━━━━━━━━━━━━━━━━\u001b[0m \u001b[32m2.3/2.3 MB\u001b[0m \u001b[31m41.1 MB/s\u001b[0m eta \u001b[36m0:00:00\u001b[0m\n",
            "\u001b[2K   \u001b[90m━━━━━━━━━━━━━━━━━━━━━━━━━━━━━━━━━━━━━━━━\u001b[0m \u001b[32m930.8/930.8 kB\u001b[0m \u001b[31m50.6 MB/s\u001b[0m eta \u001b[36m0:00:00\u001b[0m\n",
            "\u001b[2K   \u001b[90m━━━━━━━━━━━━━━━━━━━━━━━━━━━━━━━━━━━━━━━━\u001b[0m \u001b[32m2.5/2.5 MB\u001b[0m \u001b[31m8.8 MB/s\u001b[0m eta \u001b[36m0:00:00\u001b[0m\n",
            "\u001b[2K   \u001b[90m━━━━━━━━━━━━━━━━━━━━━━━━━━━━━━━━━━━━━━━━\u001b[0m \u001b[32m2.1/2.1 MB\u001b[0m \u001b[31m88.3 MB/s\u001b[0m eta \u001b[36m0:00:00\u001b[0m\n",
            "\u001b[2K   \u001b[90m━━━━━━━━━━━━━━━━━━━━━━━━━━━━━━━━━━━━━━━━\u001b[0m \u001b[32m167.9/167.9 kB\u001b[0m \u001b[31m15.6 MB/s\u001b[0m eta \u001b[36m0:00:00\u001b[0m\n",
            "\u001b[2K   \u001b[90m━━━━━━━━━━━━━━━━━━━━━━━━━━━━━━━━━━━━━━━━\u001b[0m \u001b[32m8.6/8.6 MB\u001b[0m \u001b[31m134.5 MB/s\u001b[0m eta \u001b[36m0:00:00\u001b[0m\n",
            "\u001b[?25h"
          ]
        }
      ],
      "source": [
        "# 1. Download and unzip the Higgs dataset, install dependencies\n",
        "!wget -O HIGGS.csv.gz https://archive.ics.uci.edu/ml/machine-learning-databases/00280/HIGGS.csv.gz\n",
        "!gunzip HIGGS.csv.gz\n",
        "!pip install pennylane --quiet"
      ]
    },
    {
      "cell_type": "code",
      "source": [
        "CSV_PATH = 'HIGGS.csv'"
      ],
      "metadata": {
        "id": "qi0D3L73TRn3"
      },
      "execution_count": 43,
      "outputs": []
    },
    {
      "cell_type": "code",
      "source": [
        "N_TRAIN = 2000         # More training data, but still manageable\n",
        "N_TEST = 500\n",
        "N_FEATURES = 8         # Keep this small for quantum speed\n",
        "N_CLASSES = 2\n",
        "\n",
        "# PQC/QNN\n",
        "N_QUBITS = 6           # Slightly more qubits, but not too many\n",
        "PQC_LAYERS = 2         # Two layers for more expressivity\n",
        "\n",
        "# Meta-initializer MLP\n",
        "META_INIT_HIDDEN = 32  # Slightly wider\n",
        "\n",
        "# Training\n",
        "BATCH_SIZE = 32\n",
        "N_EPOCHS = 10          # More epochs for better learning\n",
        "LR = 0.01"
      ],
      "metadata": {
        "id": "JP3yHIbaI5VP"
      },
      "execution_count": 44,
      "outputs": []
    },
    {
      "cell_type": "code",
      "source": [
        "import torch\n",
        "import torch.nn as nn\n",
        "import torch.optim as optim\n",
        "from torch.utils.data import Dataset\n",
        "import pandas as pd\n",
        "import numpy as np\n",
        "import pennylane as qml\n",
        "from sklearn.metrics import accuracy_score, roc_auc_score, f1_score\n",
        "import matplotlib.pyplot as plt"
      ],
      "metadata": {
        "id": "uO7wfNuFI3yj"
      },
      "execution_count": 35,
      "outputs": []
    },
    {
      "cell_type": "code",
      "source": [
        "# 3. Dataset (use only first N_FEATURES for quantum speed)\n",
        "class HiggsDataset(Dataset):\n",
        "    def __init__(self, csv_path, n_samples=None, offset=0):\n",
        "        df = pd.read_csv(csv_path, header=None, nrows=n_samples, skiprows=range(1, offset+1))\n",
        "        X = df.iloc[:, 1:].values.astype(np.float32)[:, :N_FEATURES]\n",
        "        self.X = X\n",
        "        self.y = df.iloc[:, 0].values.astype(np.int64)\n",
        "    def __len__(self):\n",
        "        return len(self.y)\n",
        "    def __getitem__(self, idx):\n",
        "        return torch.from_numpy(self.X[idx]), self.y[idx]"
      ],
      "metadata": {
        "id": "XFwqOxJpI8BY"
      },
      "execution_count": 45,
      "outputs": []
    },
    {
      "cell_type": "code",
      "source": [
        "# 4. Task embedding and meta-initializer MLP\n",
        "def task_embedding(task_id, n_qubits=N_QUBITS):\n",
        "    # Simple: one-hot or random vector for each task\n",
        "    emb = torch.zeros(n_qubits)\n",
        "    emb[task_id % n_qubits] = 1.0\n",
        "    return emb\n",
        "\n",
        "class MetaInitializerMLP(nn.Module):\n",
        "    def __init__(self, emb_dim, pqc_layers, n_qubits):\n",
        "        super().__init__()\n",
        "        self.mlp = nn.Sequential(\n",
        "            nn.Linear(emb_dim, META_INIT_HIDDEN),\n",
        "            nn.ReLU(),\n",
        "            nn.Linear(META_INIT_HIDDEN, pqc_layers * n_qubits * 2)\n",
        "        )\n",
        "        self.pqc_layers = pqc_layers\n",
        "        self.n_qubits = n_qubits\n",
        "    def forward(self, emb):\n",
        "        out = self.mlp(emb)\n",
        "        return out.view(self.pqc_layers, self.n_qubits, 2)"
      ],
      "metadata": {
        "id": "Ldl7E3I4I-HP"
      },
      "execution_count": 46,
      "outputs": []
    },
    {
      "cell_type": "code",
      "source": [
        "# 5. PQC/QNN classifier\n",
        "dev = qml.device(\"default.qubit\", wires=N_QUBITS)\n",
        "\n",
        "def angle_encode(x):\n",
        "    for i in range(N_QUBITS):\n",
        "        qml.RY(x[i], wires=i)\n",
        "\n",
        "@qml.qnode(dev, interface=\"torch\", diff_method=\"parameter-shift\")\n",
        "def pqc_classifier(weights, x):\n",
        "    angle_encode(x)\n",
        "    for l in range(weights.shape[0]):\n",
        "        for i in range(N_QUBITS):\n",
        "            qml.RY(weights[l, i, 0], wires=i)\n",
        "            qml.RZ(weights[l, i, 1], wires=i)\n",
        "        for i in range(N_QUBITS - 1):\n",
        "            qml.CNOT(wires=[i, i + 1])\n",
        "    return qml.expval(qml.PauliZ(0))  # Use qubit 0 for binary classification"
      ],
      "metadata": {
        "id": "sd1SBautI_L_"
      },
      "execution_count": 47,
      "outputs": []
    },
    {
      "cell_type": "code",
      "source": [
        "def train_meta_qnn(train_dataset, n_epochs, batch_size, device):\n",
        "    meta_init = MetaInitializerMLP(N_QUBITS, PQC_LAYERS, N_QUBITS).to(device)\n",
        "    optimizer = optim.Adam(meta_init.parameters(), lr=LR)\n",
        "    losses, accs, f1s, rocs = [], [], [], []\n",
        "    for epoch in range(n_epochs):\n",
        "        meta_init.train()\n",
        "        total_loss = 0\n",
        "        all_preds, all_trues = [], []\n",
        "        for i in range(0, len(train_dataset), batch_size):\n",
        "            X_batch = torch.stack([train_dataset[j][0] for j in range(i, min(i+batch_size, len(train_dataset)))])\n",
        "            y_batch = torch.tensor([train_dataset[j][1] for j in range(i, min(i+batch_size, len(train_dataset)))])\n",
        "            X_batch, y_batch = X_batch.to(device), y_batch.to(device)\n",
        "            emb = task_embedding(0).to(device)\n",
        "            pqc_params = meta_init(emb)\n",
        "            preds = torch.stack([pqc_classifier(pqc_params, x) for x in X_batch])\n",
        "            preds = preds.float()\n",
        "            preds = (preds + 1) / 2\n",
        "            y_batch = y_batch.float()\n",
        "            loss = nn.BCELoss()(preds, y_batch)\n",
        "            optimizer.zero_grad()\n",
        "            loss.backward()\n",
        "            optimizer.step()\n",
        "            total_loss += loss.item() * X_batch.size(0)\n",
        "            all_preds.extend(preds.detach().cpu().numpy())\n",
        "            all_trues.extend(y_batch.cpu().numpy())\n",
        "        avg_loss = total_loss / len(train_dataset)\n",
        "        pred_labels = (np.array(all_preds) > 0.5).astype(int)\n",
        "        acc = accuracy_score(all_trues, pred_labels)\n",
        "        f1 = f1_score(all_trues, pred_labels)\n",
        "        try:\n",
        "            roc = roc_auc_score(all_trues, all_preds)\n",
        "        except:\n",
        "            roc = float('nan')\n",
        "        losses.append(avg_loss)\n",
        "        accs.append(acc)\n",
        "        f1s.append(f1)\n",
        "        rocs.append(roc)\n",
        "        print(f\"Epoch {epoch+1}: Loss {avg_loss:.4f}, Acc {acc:.4f}, F1 {f1:.4f}, ROC-AUC {roc:.4f}\")\n",
        "    return meta_init, losses, accs, f1s, rocs"
      ],
      "metadata": {
        "id": "VduisbinJAVX"
      },
      "execution_count": 48,
      "outputs": []
    },
    {
      "cell_type": "code",
      "source": [
        "def eval_meta_qnn(meta_init, test_dataset, device):\n",
        "    meta_init.eval()\n",
        "    emb = task_embedding(0).to(device)\n",
        "    pqc_params = meta_init(emb)\n",
        "    preds, trues = [], []\n",
        "    for i in range(len(test_dataset)):\n",
        "        x, y = test_dataset[i]\n",
        "        x = x.to(device)\n",
        "        pred = pqc_classifier(pqc_params, x)\n",
        "        pred = (pred.item() + 1) / 2\n",
        "        preds.append(pred)\n",
        "        trues.append(y)\n",
        "    preds = np.array(preds)\n",
        "    trues = np.array(trues)\n",
        "    pred_labels = (preds > 0.5).astype(int)\n",
        "    acc = accuracy_score(trues, pred_labels)\n",
        "    f1 = f1_score(trues, pred_labels)\n",
        "    try:\n",
        "        roc = roc_auc_score(trues, preds)\n",
        "    except:\n",
        "        roc = float('nan')\n",
        "    print(f\"Test Accuracy: {acc:.4f}, F1: {f1:.4f}, ROC-AUC: {roc:.4f}\")\n",
        "    return preds, trues"
      ],
      "metadata": {
        "id": "WDCbYW4iJBbS"
      },
      "execution_count": 49,
      "outputs": []
    },
    {
      "cell_type": "code",
      "source": [
        "# 8. Run the pipeline\n",
        "device = torch.device('cuda' if torch.cuda.is_available() else 'cpu')\n",
        "print(device)\n",
        "print(\"Loading data...\")\n",
        "train_dataset = HiggsDataset(CSV_PATH, n_samples=N_TRAIN)\n",
        "test_dataset = HiggsDataset(CSV_PATH, n_samples=N_TEST, offset=N_TRAIN)\n",
        "print(\"Training meta-initializer + PQC classifier...\")\n",
        "meta_init, losses, accs, f1s, rocs = train_meta_qnn(train_dataset, N_EPOCHS, BATCH_SIZE, device)\n",
        "plt.plot(losses)\n",
        "plt.title(\"Training Loss\")\n",
        "plt.show()\n",
        "print(\"Evaluating...\")\n",
        "eval_meta_qnn(meta_init, test_dataset, device)"
      ],
      "metadata": {
        "colab": {
          "base_uri": "https://localhost:8080/",
          "height": 1000
        },
        "id": "SrAqFmkdJCXz",
        "outputId": "d2f312f1-fdd6-4a67-821a-5d0b68c1ba2f"
      },
      "execution_count": 50,
      "outputs": [
        {
          "output_type": "stream",
          "name": "stdout",
          "text": [
            "cuda\n",
            "Loading data...\n",
            "Training meta-initializer + PQC classifier...\n",
            "Epoch 1: Loss 0.7272, Acc 0.5360, F1 0.5897, ROC-AUC 0.5380\n",
            "Epoch 2: Loss 0.6954, Acc 0.5125, F1 0.5594, ROC-AUC 0.5119\n",
            "Epoch 3: Loss 0.6957, Acc 0.5080, F1 0.5619, ROC-AUC 0.5045\n",
            "Epoch 4: Loss 0.6948, Acc 0.5225, F1 0.5992, ROC-AUC 0.5131\n",
            "Epoch 5: Loss 0.6943, Acc 0.5270, F1 0.6081, ROC-AUC 0.5256\n",
            "Epoch 6: Loss 0.6950, Acc 0.5230, F1 0.6051, ROC-AUC 0.5211\n",
            "Epoch 7: Loss 0.6941, Acc 0.5235, F1 0.6067, ROC-AUC 0.5266\n",
            "Epoch 8: Loss 0.6949, Acc 0.5255, F1 0.6119, ROC-AUC 0.5202\n",
            "Epoch 9: Loss 0.6943, Acc 0.5270, F1 0.6120, ROC-AUC 0.5251\n",
            "Epoch 10: Loss 0.6946, Acc 0.5155, F1 0.6047, ROC-AUC 0.5204\n"
          ]
        },
        {
          "output_type": "display_data",
          "data": {
            "text/plain": [
              "<Figure size 640x480 with 1 Axes>"
            ],
            "image/png": "[encoded data removed]"
          },
          "metadata": {}
        },
        {
          "output_type": "stream",
          "name": "stdout",
          "text": [
            "Evaluating...\n",
            "Test Accuracy: 0.5400, F1: 0.6637, ROC-AUC: 0.4959\n"
          ]
        },
        {
          "output_type": "execute_result",
          "data": {
            "text/plain": [
              "(array([0.5232492 , 0.57168311, 0.56121676, 0.50176545, 0.49629407,\n",
              "        0.47120288, 0.5479107 , 0.570385  , 0.59406779, 0.45054338,\n",
              "        0.56660201, 0.52920395, 0.59729249, 0.44100078, 0.48441065,\n",
              "        0.57776932, 0.56404746, 0.58603542, 0.60666376, 0.59941285,\n",
              "        0.60198463, 0.52206011, 0.56831857, 0.58905772, 0.53684915,\n",
              "        0.51352707, 0.47414588, 0.54770752, 0.60296521, 0.55238888,\n",
              "        0.49877541, 0.59112202, 0.51503679, 0.58039873, 0.60176928,\n",
              "        0.60314364, 0.60005419, 0.53784017, 0.56482216, 0.45982146,\n",
              "        0.60517773, 0.49580948, 0.5148418 , 0.59963248, 0.48576558,\n",
              "        0.50140721, 0.51777225, 0.60892094, 0.60646136, 0.49617445,\n",
              "        0.59055984, 0.60115574, 0.49443451, 0.49047912, 0.60094966,\n",
              "        0.57396084, 0.60298056, 0.59155188, 0.58954721, 0.61415118,\n",
              "        0.55920019, 0.55595905, 0.55012556, 0.57996346, 0.49885609,\n",
              "        0.5309071 , 0.61229219, 0.51134488, 0.56199485, 0.58019577,\n",
              "        0.57904299, 0.60668295, 0.59856622, 0.54817707, 0.52303352,\n",
              "        0.60952572, 0.4755363 , 0.52762165, 0.57105373, 0.55795476,\n",
              "        0.55414601, 0.5471977 , 0.55218879, 0.46135372, 0.56743284,\n",
              "        0.5037769 , 0.60689654, 0.58088044, 0.56910528, 0.53153022,\n",
              "        0.47557416, 0.58190397, 0.60261315, 0.53669482, 0.50617604,\n",
              "        0.5342142 , 0.55298629, 0.47323784, 0.57964204, 0.52853222,\n",
              "        0.52616449, 0.55889874, 0.59023646, 0.56498946, 0.55425307,\n",
              "        0.59871752, 0.54305312, 0.60273912, 0.57801508, 0.60192268,\n",
              "        0.57263535, 0.59889176, 0.55081809, 0.55602393, 0.50430643,\n",
              "        0.58313409, 0.58811599, 0.5791017 , 0.5640122 , 0.5940908 ,\n",
              "        0.58915791, 0.59972771, 0.56991214, 0.58076816, 0.46980042,\n",
              "        0.5497485 , 0.54018905, 0.51874452, 0.47661907, 0.5587027 ,\n",
              "        0.61754299, 0.58401836, 0.57840633, 0.51814257, 0.5918281 ,\n",
              "        0.61241443, 0.47480434, 0.58962069, 0.61514069, 0.47664328,\n",
              "        0.60492791, 0.60287685, 0.58426159, 0.54609916, 0.54484132,\n",
              "        0.4760094 , 0.50490192, 0.55697836, 0.58723718, 0.58039169,\n",
              "        0.540932  , 0.60884518, 0.59269301, 0.46097695, 0.61392877,\n",
              "        0.55449723, 0.55539088, 0.47685634, 0.58701105, 0.58377564,\n",
              "        0.61613138, 0.58940834, 0.47606564, 0.59532443, 0.56783842,\n",
              "        0.54084556, 0.58623221, 0.59415809, 0.61125212, 0.56963406,\n",
              "        0.57726801, 0.55674741, 0.55399737, 0.56453277, 0.55729012,\n",
              "        0.52929885, 0.46514692, 0.55349533, 0.6081086 , 0.5963965 ,\n",
              "        0.54863917, 0.58829155, 0.61906336, 0.47328651, 0.51083509,\n",
              "        0.61804317, 0.53816531, 0.55822658, 0.5117418 , 0.46114501,\n",
              "        0.5890632 , 0.60812453, 0.5521806 , 0.51002096, 0.60185696,\n",
              "        0.4959304 , 0.59095774, 0.45443919, 0.52509825, 0.59254474,\n",
              "        0.44665494, 0.58691979, 0.52738113, 0.61546249, 0.60445353,\n",
              "        0.5547966 , 0.57619949, 0.56270213, 0.60925964, 0.5052471 ,\n",
              "        0.5946171 , 0.48884423, 0.53003133, 0.47799503, 0.49691032,\n",
              "        0.58696638, 0.56958942, 0.58868381, 0.50330222, 0.60406477,\n",
              "        0.5423363 , 0.52991883, 0.60637091, 0.56346729, 0.52657944,\n",
              "        0.45355758, 0.57148171, 0.52808933, 0.59206233, 0.60719778,\n",
              "        0.57051847, 0.59166193, 0.60331188, 0.58101017, 0.55227421,\n",
              "        0.58658379, 0.55456099, 0.59200357, 0.55498791, 0.48085763,\n",
              "        0.5614715 , 0.56722804, 0.56447178, 0.56668073, 0.59655212,\n",
              "        0.60047742, 0.4604087 , 0.59340779, 0.5509314 , 0.52768054,\n",
              "        0.5872715 , 0.55909057, 0.60349243, 0.60386814, 0.5729024 ,\n",
              "        0.58217659, 0.55224725, 0.5399903 , 0.47545104, 0.58962647,\n",
              "        0.60019967, 0.60300369, 0.48860604, 0.59301644, 0.54264561,\n",
              "        0.57566904, 0.61339148, 0.56623051, 0.61217476, 0.57407136,\n",
              "        0.59673184, 0.60214991, 0.59029345, 0.45726999, 0.49890291,\n",
              "        0.58159547, 0.46492056, 0.55224375, 0.58438064, 0.60205203,\n",
              "        0.58876289, 0.60309648, 0.46526414, 0.61072529, 0.59988295,\n",
              "        0.57568429, 0.59059059, 0.59343942, 0.54503085, 0.61227358,\n",
              "        0.57184498, 0.48617882, 0.54636344, 0.60193384, 0.52757427,\n",
              "        0.49825014, 0.5623052 , 0.59516978, 0.44177922, 0.45993994,\n",
              "        0.60241501, 0.6050141 , 0.52230668, 0.50130674, 0.60397311,\n",
              "        0.54483978, 0.54942849, 0.60420604, 0.45394084, 0.4427938 ,\n",
              "        0.57489543, 0.54071404, 0.59980426, 0.59031397, 0.58224116,\n",
              "        0.48184382, 0.48237329, 0.5561754 , 0.56368281, 0.51591754,\n",
              "        0.48982996, 0.5063961 , 0.56559326, 0.53736039, 0.57819465,\n",
              "        0.57541595, 0.58823486, 0.60244136, 0.4834561 , 0.49919266,\n",
              "        0.59758227, 0.57192107, 0.51821587, 0.57468546, 0.50504715,\n",
              "        0.46805901, 0.56415961, 0.5148649 , 0.509603  , 0.56628284,\n",
              "        0.57366819, 0.446901  , 0.54904153, 0.50722382, 0.59738592,\n",
              "        0.48252451, 0.55843249, 0.58257411, 0.60099389, 0.54314527,\n",
              "        0.59313379, 0.45410541, 0.5055645 , 0.5734102 , 0.49412339,\n",
              "        0.5725126 , 0.60373136, 0.4574944 , 0.60972477, 0.60330349,\n",
              "        0.53058812, 0.60838736, 0.61586163, 0.58260121, 0.49660108,\n",
              "        0.55211654, 0.52065486, 0.50351439, 0.61518779, 0.61171687,\n",
              "        0.57686577, 0.60396776, 0.58526309, 0.53700153, 0.6070487 ,\n",
              "        0.58892173, 0.58091689, 0.60184125, 0.45341721, 0.50764133,\n",
              "        0.60585564, 0.5550769 , 0.58681984, 0.46063796, 0.61462837,\n",
              "        0.59615685, 0.52926648, 0.39592614, 0.50354085, 0.60293656,\n",
              "        0.50344674, 0.56248173, 0.57456559, 0.53640067, 0.50444587,\n",
              "        0.56490549, 0.5477488 , 0.57065484, 0.6153787 , 0.60299866,\n",
              "        0.57124434, 0.58427833, 0.57384662, 0.51217776, 0.5347975 ,\n",
              "        0.54985779, 0.61059623, 0.47168008, 0.56482361, 0.52154308,\n",
              "        0.52382449, 0.45893932, 0.53743222, 0.4693609 , 0.55530909,\n",
              "        0.60507302, 0.4532614 , 0.50675147, 0.59398563, 0.58872984,\n",
              "        0.52053791, 0.6047253 , 0.55341128, 0.55565057, 0.52464993,\n",
              "        0.56165147, 0.59362037, 0.61870731, 0.45440862, 0.59273916,\n",
              "        0.57418443, 0.5257965 , 0.60206369, 0.57800145, 0.59151936,\n",
              "        0.51939267, 0.59130617, 0.57089961, 0.5512192 , 0.60515268,\n",
              "        0.53332843, 0.51550931, 0.57745042, 0.57395301, 0.61307025,\n",
              "        0.47270017, 0.57655439, 0.58692249, 0.48968263, 0.58284933,\n",
              "        0.47620906, 0.60061081, 0.5191954 , 0.60112073, 0.57409238,\n",
              "        0.59899919, 0.49558253, 0.47418345, 0.58212491, 0.5983419 ,\n",
              "        0.4680705 , 0.44802148, 0.57778328, 0.57484624, 0.45637426,\n",
              "        0.59594214, 0.49028265, 0.5047232 , 0.55865077, 0.5831063 ,\n",
              "        0.60016026, 0.59956186, 0.59250583, 0.48719265, 0.45653875,\n",
              "        0.54882795, 0.55742029, 0.60376455, 0.5287904 , 0.54363714,\n",
              "        0.60789951, 0.57102537, 0.59593834, 0.54509483, 0.54136858,\n",
              "        0.47917696, 0.5690916 , 0.60150478, 0.5440788 , 0.51165907,\n",
              "        0.55734557, 0.60999946, 0.5059071 , 0.59147399, 0.53101921,\n",
              "        0.51267271, 0.53867077, 0.56944775, 0.50633919, 0.55724701]),\n",
              " array([1, 1, 1, 1, 0, 0, 1, 1, 0, 0, 1, 0, 1, 0, 1, 1, 1, 1, 1, 0, 0, 1,\n",
              "        1, 0, 1, 1, 1, 0, 0, 1, 0, 1, 0, 1, 0, 0, 1, 0, 1, 1, 0, 0, 0, 0,\n",
              "        1, 0, 0, 0, 1, 0, 0, 0, 0, 0, 0, 1, 0, 1, 0, 1, 0, 1, 0, 1, 1, 1,\n",
              "        0, 0, 0, 0, 0, 0, 1, 1, 0, 0, 1, 1, 1, 1, 1, 0, 0, 0, 1, 0, 0, 0,\n",
              "        1, 1, 0, 1, 0, 0, 0, 1, 0, 0, 1, 0, 0, 1, 1, 0, 1, 1, 0, 0, 1, 0,\n",
              "        1, 0, 1, 1, 1, 0, 0, 0, 0, 1, 1, 1, 0, 1, 1, 1, 1, 1, 1, 0, 0, 0,\n",
              "        0, 0, 1, 0, 0, 1, 1, 1, 0, 0, 0, 0, 1, 1, 1, 1, 1, 0, 1, 1, 0, 0,\n",
              "        1, 1, 1, 0, 0, 0, 0, 1, 0, 1, 1, 0, 1, 0, 1, 0, 1, 1, 0, 1, 0, 0,\n",
              "        0, 0, 1, 0, 0, 0, 0, 0, 0, 0, 1, 1, 0, 0, 1, 1, 0, 0, 1, 1, 1, 1,\n",
              "        1, 1, 1, 1, 0, 1, 1, 1, 0, 1, 1, 0, 1, 1, 1, 1, 0, 1, 1, 1, 1, 1,\n",
              "        1, 1, 0, 1, 1, 1, 0, 1, 0, 1, 1, 1, 1, 1, 0, 0, 1, 1, 0, 0, 0, 1,\n",
              "        1, 1, 1, 1, 0, 0, 1, 1, 0, 0, 0, 1, 0, 1, 1, 1, 1, 0, 0, 0, 1, 1,\n",
              "        1, 0, 0, 0, 1, 1, 0, 1, 1, 0, 0, 1, 1, 1, 1, 1, 1, 1, 1, 1, 1, 0,\n",
              "        1, 0, 1, 0, 1, 1, 1, 1, 1, 0, 1, 1, 0, 1, 1, 1, 1, 1, 0, 0, 1, 1,\n",
              "        1, 0, 0, 0, 1, 1, 1, 1, 1, 1, 1, 1, 1, 1, 0, 0, 1, 0, 0, 1, 1, 1,\n",
              "        0, 1, 1, 0, 1, 0, 0, 1, 0, 0, 0, 1, 1, 0, 1, 0, 1, 0, 0, 1, 1, 1,\n",
              "        1, 1, 0, 0, 1, 0, 1, 0, 1, 1, 0, 0, 0, 0, 1, 0, 1, 0, 0, 1, 1, 1,\n",
              "        0, 0, 0, 0, 0, 1, 0, 0, 0, 1, 1, 0, 1, 0, 1, 0, 1, 1, 1, 1, 0, 0,\n",
              "        0, 0, 0, 0, 1, 1, 1, 1, 1, 0, 0, 0, 0, 0, 1, 0, 0, 1, 0, 0, 1, 0,\n",
              "        1, 0, 1, 1, 0, 0, 0, 0, 0, 1, 0, 0, 0, 0, 0, 0, 1, 1, 1, 0, 1, 1,\n",
              "        1, 1, 0, 1, 0, 0, 0, 1, 1, 1, 1, 1, 0, 1, 1, 1, 0, 1, 0, 0, 1, 0,\n",
              "        0, 0, 1, 1, 1, 0, 1, 0, 0, 1, 0, 0, 0, 1, 1, 1, 0, 0, 0, 0, 0, 1,\n",
              "        0, 0, 1, 1, 1, 1, 0, 1, 1, 0, 1, 0, 0, 1, 1, 1]))"
            ]
          },
          "metadata": {},
          "execution_count": 50
        }
      ]
    },
    {
      "cell_type": "code",
      "source": [
        "# After training:\n",
        "meta_init, losses, accs, f1s, rocs = train_meta_qnn(train_dataset, N_EPOCHS, BATCH_SIZE, device)\n",
        "plt.figure(figsize=(12,4))\n",
        "plt.subplot(1,4,1); plt.plot(losses); plt.title(\"Loss\")\n",
        "plt.subplot(1,4,2); plt.plot(accs); plt.title(\"Accuracy\")\n",
        "plt.subplot(1,4,3); plt.plot(f1s); plt.title(\"F1\")\n",
        "plt.subplot(1,4,4); plt.plot(rocs); plt.title(\"ROC-AUC\")\n",
        "plt.tight_layout(); plt.show()"
      ],
      "metadata": {
        "id": "lCj2xNR8RkM4"
      },
      "execution_count": null,
      "outputs": []
    }
  ]
}